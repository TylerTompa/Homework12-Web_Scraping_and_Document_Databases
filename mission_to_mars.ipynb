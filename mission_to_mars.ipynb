{
 "cells": [
  {
   "cell_type": "markdown",
   "metadata": {},
   "source": [
    "In this project we scrape the NASA Mars News Site: https://mars.nasa.gov/news/?page=0&per_page=40&order=publish_date+desc%2Ccreated_at+desc&search=&category=19%2C165%2C184%2C204&blank_scope=Latest"
   ]
  },
  {
   "cell_type": "code",
   "execution_count": 104,
   "metadata": {},
   "outputs": [],
   "source": [
    "import os\n",
    "\n",
    "from bs4 import BeautifulSoup as bs\n",
    "# import requests\n",
    "# from splinter import Browser\n",
    "# import splinter\n",
    "\n",
    "import pandas as pd"
   ]
  },
  {
   "cell_type": "markdown",
   "metadata": {},
   "source": [
    "## In this section we scrape the NASA Mars news site."
   ]
  },
  {
   "cell_type": "code",
   "execution_count": 105,
   "metadata": {},
   "outputs": [],
   "source": [
    "nasa_mars_file_path = os.path.join(\"NewsNASAMarsExplorationProgram\", \"News_NASA_Mars_Exploration_Program.html\")\n",
    "nasa_mars_html = open(nasa_mars_file_path, \"r\").read()"
   ]
  },
  {
   "cell_type": "code",
   "execution_count": 106,
   "metadata": {},
   "outputs": [],
   "source": [
    "nasa_news_site_soup = bs(nasa_mars_html, \"html.parser\")"
   ]
  },
  {
   "cell_type": "code",
   "execution_count": 107,
   "metadata": {},
   "outputs": [],
   "source": [
    "nasa_news_article_titles_html = nasa_news_site_soup.find_all(\"div\", class_=\"content_title\")\n",
    "nasa_news_article_paragraphs_html = nasa_news_site_soup.find_all(\"div\", class_=\"article_teaser_body\")"
   ]
  },
  {
   "cell_type": "code",
   "execution_count": 108,
   "metadata": {},
   "outputs": [
    {
     "data": {
      "text/plain": [
       "[<div class=\"content_title\"><a href=\"https://mars.nasa.gov/news/8390/nasa-insight-landing-on-mars-milestones/\" target=\"_self\">NASA InSight Landing on Mars: Milestones</a></div>,\n",
       " <div class=\"content_title\"><a href=\"https://mars.nasa.gov/news/8389/nasa-insight-team-on-course-for-mars-touchdown/\" target=\"_self\">NASA InSight Team on Course for Mars Touchdown</a></div>,\n",
       " <div class=\"content_title\"><a href=\"https://mars.nasa.gov/news/8388/what-two-planetary-siblings-can-teach-us-about-life/\" target=\"_self\">What Two Planetary Siblings Can Teach Us About Life</a></div>,\n",
       " <div class=\"content_title\"><a href=\"https://mars.nasa.gov/news/8387/nasa-announces-landing-site-for-mars-2020-rover/\" target=\"_self\">NASA Announces Landing Site for Mars 2020 Rover</a></div>,\n",
       " <div class=\"content_title\"><a href=\"https://mars.nasa.gov/news/8386/nasa-to-host-media-call-on-next-mars-landing-site/\" target=\"_self\">NASA to Host Media Call on Next Mars Landing Site</a></div>,\n",
       " <div class=\"content_title\"><a href=\"https://mars.nasa.gov/news/8385/how-nasa-will-know-when-insight-touches-down/\" target=\"_self\">How NASA Will Know When InSight Touches Down</a></div>,\n",
       " <div class=\"content_title\"><a href=\"https://mars.nasa.gov/news/8384/nasa-brings-mars-landing-to-viewers-everywhere/\" target=\"_self\">NASA Brings Mars Landing to Viewers Everywhere</a></div>,\n",
       " <div class=\"content_title\"><a href=\"https://mars.nasa.gov/news/8371/curiosity-on-the-move-again/\" target=\"_self\">Curiosity on the Move Again</a></div>,\n",
       " <div class=\"content_title\"><a href=\"https://mars.nasa.gov/news/8383/the-mars-insight-landing-site-is-just-plain-perfect/\" target=\"_self\">The Mars InSight Landing Site Is Just Plain Perfect</a></div>,\n",
       " <div class=\"content_title\"><a href=\"https://mars.nasa.gov/news/8382/five-things-to-know-about-insights-mars-landing/\" target=\"_self\">Five Things to Know About InSight's Mars Landing</a></div>,\n",
       " <div class=\"content_title\"><a href=\"https://mars.nasa.gov/news/8381/nasa-launches-a-new-podcast-to-mars/\" target=\"_self\">NASA Launches a New Podcast to Mars</a></div>,\n",
       " <div class=\"content_title\"><a href=\"https://mars.nasa.gov/news/8364/update-on-opportunity-rover-recovery-efforts/\" target=\"_self\">Update on Opportunity Rover Recovery Efforts</a></div>,\n",
       " <div class=\"content_title\"><a href=\"https://mars.nasa.gov/news/8380/third-aspire-test-confirms-mars-2020-parachute-a-go/\" target=\"_self\">Third ASPIRE Test Confirms Mars 2020 Parachute a Go</a></div>,\n",
       " <div class=\"content_title\"><a href=\"https://mars.nasa.gov/news/8379/nasa-to-host-briefing-on-november-mars-insight-landing/\" target=\"_self\">NASA to Host Briefing on November Mars InSight Landing</a></div>,\n",
       " <div class=\"content_title\"><a href=\"https://mars.nasa.gov/news/8378/nasas-insight-will-study-mars-while-standing-still/\" target=\"_self\">NASA's InSight Will Study Mars While Standing Still</a></div>,\n",
       " <div class=\"content_title\"><a href=\"https://mars.nasa.gov/news/8377/nasas-first-image-of-mars-from-a-cubesat/\" target=\"_self\">NASA's First Image of Mars from a CubeSat</a></div>,\n",
       " <div class=\"content_title\"><a href=\"https://mars.nasa.gov/news/8375/the-claw-game-on-mars-nasa-insight-plays-to-win/\" target=\"_self\">The 'Claw Game' on Mars: NASA InSight Plays to Win</a></div>,\n",
       " <div class=\"content_title\"><a href=\"https://mars.nasa.gov/news/8376/scientists-to-debate-landing-site-for-next-mars-rover/\" target=\"_self\">Scientists to Debate Landing Site for Next Mars Rover</a></div>,\n",
       " <div class=\"content_title\"><a href=\"https://mars.nasa.gov/news/8374/mars-virtual-reality-software-wins-nasa-award/\" target=\"_self\">Mars Virtual Reality Software Wins NASA Award</a></div>,\n",
       " <div class=\"content_title\"><a href=\"https://mars.nasa.gov/news/8373/painting-cars-for-mars/\" target=\"_self\">Painting Cars for Mars</a></div>,\n",
       " <div class=\"content_title\"><a href=\"https://mars.nasa.gov/news/8370/opportunity-emerges-in-a-dusty-picture/\" target=\"_self\">Opportunity Emerges in a Dusty Picture</a></div>,\n",
       " <div class=\"content_title\"><a href=\"https://mars.nasa.gov/news/8369/nasa-seeking-partner-in-contest-to-name-next-mars-rover/\" target=\"_self\">NASA Seeking Partner in Contest to Name Next Mars Rover</a></div>,\n",
       " <div class=\"content_title\"><a href=\"https://mars.nasa.gov/news/8368/nasas-maven-selfie-marks-four-years-in-orbit-at-mars/\" target=\"_self\">NASA's MAVEN Selfie Marks Four Years in Orbit at Mars</a></div>,\n",
       " <div class=\"content_title\"><a href=\"https://mars.nasa.gov/news/8367/marco-makes-space-for-small-explorers/\" target=\"_self\">MarCO Makes Space for Small Explorers</a></div>,\n",
       " <div class=\"content_title\"><a href=\"https://mars.nasa.gov/news/8365/curiosity-surveys-a-mystery-under-dusty-skies/\" target=\"_self\">Curiosity Surveys a Mystery Under Dusty Skies</a></div>,\n",
       " <div class=\"content_title\"><a href=\"https://mars.nasa.gov/news/8363/nasas-insight-has-a-thermometer-for-mars/\" target=\"_self\">NASA's InSight Has a Thermometer for Mars</a></div>,\n",
       " <div class=\"content_title\"><a href=\"https://mars.nasa.gov/news/8362/digital-creators-apply-for-nasa-mars-landing-event/\" target=\"_self\">Digital Creators: Apply for NASA Mars Landing Event</a></div>,\n",
       " <div class=\"content_title\"><a href=\"https://mars.nasa.gov/news/8361/nasas-insight-passes-halfway-to-mars-instruments-check-in/\" target=\"_self\">NASA's InSight Passes Halfway to Mars, Instruments Check In</a></div>,\n",
       " <div class=\"content_title\"><a href=\"https://mars.nasa.gov/news/8360/six-things-about-opportunitys-recovery-efforts/\" target=\"_self\">Six Things About Opportunity's Recovery Efforts</a></div>,\n",
       " <div class=\"content_title\"><a href=\"https://mars.nasa.gov/news/8359/meet-the-people-behind-nasas-insight-mars-lander/\" target=\"_self\">Meet the People Behind NASA's InSight Mars Lander</a></div>,\n",
       " <div class=\"content_title\"><a href=\"https://mars.nasa.gov/news/8358/mars-terraforming-not-possible-using-present-day-technology/\" target=\"_self\">Mars Terraforming Not Possible Using Present-Day Technology</a></div>,\n",
       " <div class=\"content_title\"><a href=\"https://mars.nasa.gov/news/8348/opportunity-hunkers-down-during-dust-storm/\" target=\"_self\">Opportunity Hunkers Down During Dust Storm</a></div>,\n",
       " <div class=\"content_title\"><a href=\"https://mars.nasa.gov/news/8357/nasa-statement-on-possible-subsurface-lake-near-martian-south-pole/\" target=\"_self\">NASA Statement on Possible Subsurface Lake near Martian South Pole</a></div>,\n",
       " <div class=\"content_title\"><a href=\"https://mars.nasa.gov/news/8356/jpls-martians-are-coming-to-griffith-observatory/\" target=\"_self\">JPL's 'Martians' Are Coming to Griffith Observatory</a></div>,\n",
       " <div class=\"content_title\"><a href=\"https://mars.nasa.gov/news/8355/nasas-maven-spacecraft-finds-that-stolen-electrons-enable-unusual-aurora-on-mars/\" target=\"_self\">NASA's MAVEN Spacecraft Finds That 'Stolen' Electrons Enable Unusual Aurora on Mars</a></div>,\n",
       " <div class=\"content_title\"><a href=\"https://mars.nasa.gov/news/8354/storm-chasers-on-mars-searching-for-dusty-secrets/\" target=\"_self\">'Storm Chasers' on Mars Searching for Dusty Secrets</a></div>,\n",
       " <div class=\"content_title\"><a href=\"https://mars.nasa.gov/news/8353/nasa-mars-mission-adds-southern-california-dates/\" target=\"_self\">NASA Mars Mission Adds Southern California Dates</a></div>,\n",
       " <div class=\"content_title\"><a href=\"https://mars.nasa.gov/news/8351/curiosity-captures-photos-of-thickening-dust/\" target=\"_self\">Curiosity Captures Photos of Thickening Dust</a></div>,\n",
       " <div class=\"content_title\"><a href=\"https://mars.nasa.gov/news/8350/nasa-encounters-the-perfect-storm-for-science/\" target=\"_self\">NASA Encounters the Perfect Storm for Science</a></div>,\n",
       " <div class=\"content_title\"><a href=\"https://mars.nasa.gov/news/8349/media-telecon-about-mars-dust-storm-opportunity/\" target=\"_self\">Media Telecon About Mars Dust Storm, Opportunity</a></div>,\n",
       " <div class=\"content_title\">\n",
       " <a href=\"https://mars.nasa.gov/news/8325/nasa-is-ready-to-study-the-heart-of-mars/\">\n",
       " NASA is Ready to Study the Heart of Mars\n",
       " </a>\n",
       " </div>,\n",
       " <div class=\"content_title\">\n",
       " <a href=\"https://mars.nasa.gov/news/8322/nasa-briefing-on-first-mission-to-study-mars-interior/\">\n",
       " NASA Briefing on First Mission to Study Mars Interior\n",
       " </a>\n",
       " </div>,\n",
       " <div class=\"content_title\">\n",
       " <a href=\"https://mars.nasa.gov/news/8387/nasa-announces-landing-site-for-mars-2020-rover/\">\n",
       " NASA Announces Landing Site for Mars 2020 Rover\n",
       " </a>\n",
       " </div>,\n",
       " <div class=\"content_title\">\n",
       " <a href=\"https://mars.nasa.gov/news/8348/opportunity-hunkers-down-during-dust-storm/\">\n",
       " Opportunity Hunkers Down During Dust Storm\n",
       " </a>\n",
       " </div>,\n",
       " <div class=\"content_title\">\n",
       " <a href=\"https://mars.nasa.gov/news/8347/nasa-finds-ancient-organic-material-mysterious-methane-on-mars/\">\n",
       " NASA Finds Ancient Organic Material, Mysterious Methane on Mars\n",
       " </a>\n",
       " </div>,\n",
       " <div class=\"content_title\">\n",
       " <a href=\"https://mars.nasa.gov/news/8326/nasa-invests-in-visionary-technology/\">\n",
       " NASA Invests in Visionary Technology \n",
       " </a>\n",
       " </div>,\n",
       " <div class=\"content_title\">\n",
       " <a href=\"https://mars.nasa.gov/news/8325/nasa-is-ready-to-study-the-heart-of-mars/\">\n",
       " NASA is Ready to Study the Heart of Mars\n",
       " </a>\n",
       " </div>,\n",
       " <div class=\"content_title\">\n",
       " <a href=\"https://mars.nasa.gov/news/8322/nasa-briefing-on-first-mission-to-study-mars-interior/\">\n",
       " NASA Briefing on First Mission to Study Mars Interior\n",
       " </a>\n",
       " </div>,\n",
       " <div class=\"content_title\">\n",
       " <a href=\"https://mars.nasa.gov/news/8387/nasa-announces-landing-site-for-mars-2020-rover/\">\n",
       " NASA Announces Landing Site for Mars 2020 Rover\n",
       " </a>\n",
       " </div>,\n",
       " <div class=\"content_title\">\n",
       " <a href=\"https://mars.nasa.gov/news/8348/opportunity-hunkers-down-during-dust-storm/\">\n",
       " Opportunity Hunkers Down During Dust Storm\n",
       " </a>\n",
       " </div>]"
      ]
     },
     "execution_count": 108,
     "metadata": {},
     "output_type": "execute_result"
    }
   ],
   "source": [
    "nasa_news_article_titles_html"
   ]
  },
  {
   "cell_type": "code",
   "execution_count": 109,
   "metadata": {
    "scrolled": false
   },
   "outputs": [
    {
     "data": {
      "text/plain": [
       "[<div class=\"article_teaser_body\">On\n",
       "  Nov. 26, NASA's InSight spacecraft will blaze through the Martian \n",
       " atmosphere and set a lander gently on the surface in less time than it \n",
       " takes to cook a hard-boiled egg.</div>,\n",
       " <div class=\"article_teaser_body\">NASA's Mars InSight spacecraft is on track for a soft touchdown on the surface of the Red Planet on Nov. 26.</div>,\n",
       " <div class=\"article_teaser_body\">In studying Mars, NASA's InSight will reveal what makes one planet more or less suitable for life than another.</div>,\n",
       " <div class=\"article_teaser_body\">After a five-year search, NASA has chosen Jezero Crater as the landing site for its upcoming Mars 2020 rover mission.</div>,\n",
       " <div class=\"article_teaser_body\">NASA\n",
       "  will host a media teleconference at 9 a.m. PST (noon EST) Monday, Nov. \n",
       " 19, to provide details about the Mars 2020 roverâ€™s landing site on the \n",
       " Red Planet.</div>,\n",
       " <div class=\"article_teaser_body\">On Nov. 26, engineers will look for a combination of signals to determine whether the next spacecraft to Mars lands safely.</div>,\n",
       " <div class=\"article_teaser_body\">NASA's\n",
       "  InSight lander is scheduled to touch down on the Red Planet at \n",
       " approximately noon PST  on Nov. 26, with a new suite of instruments to \n",
       " probe below the Martian surface.</div>,\n",
       " <div class=\"article_teaser_body\">NASA's\n",
       "  Mars Curiosity rover drove about 197 feet over the weekend to a site \n",
       " called Lake Orcadie, pushing its total odometry to over 12 miles.</div>,\n",
       " <div class=\"article_teaser_body\">If the InSight landing zone were ice cream, it would be vanilla.</div>,\n",
       " <div class=\"article_teaser_body\">NASA engineers will be holding their breath when their spacecraft heads into Mars' atmosphere on Nov. 26.</div>,\n",
       " <div class=\"article_teaser_body\">NASA's\n",
       "  new eight-episode series 'On a Mission' follows the InSight spacecraft \n",
       " on its journey to Mars and details the extraordinary challenges of \n",
       " landing on the Red Planet.</div>,\n",
       " <div class=\"article_teaser_body\">After\n",
       "  a review of the progress of the listening campaign, NASA will continue \n",
       " its current strategy for attempting to make contact with the Opportunity\n",
       "  rover for the foreseeable future.</div>,\n",
       " <div class=\"article_teaser_body\">The\n",
       "  supersonic parachute that will handle the heaviest payload yet to the \n",
       " Red Planet â€“ Mars 2020 rover â€“ passes its final sounding rocket test \n",
       " with flying colors.</div>,\n",
       " <div class=\"article_teaser_body\">A\n",
       "  briefing on NASA's upcoming InSight Mars landing will air on Wed. Oct. \n",
       " 31 at 1:30 p.m. EDT (10:30 a.m. PDT) on NASA TV, the agency's website \n",
       " and NASA InSight Facebook Page.</div>,\n",
       " <div class=\"article_teaser_body\">The lander's unique science can teach us how planets are born.</div>,\n",
       " <div class=\"article_teaser_body\">The image was produced by one of the twin briefcase-sized MarCO spacecraft, the first CubeSats to fly to deep space.</div>,\n",
       " <div class=\"article_teaser_body\">NASA's\n",
       "  InSight lander will be the first mission to use a robotic arm to grasp \n",
       " instruments from the spacecraft and place them on the surface of another\n",
       "  planet. </div>,\n",
       " <div class=\"article_teaser_body\">Hundreds\n",
       "  of scientists and Mars-exploration enthusiasts gather this week to \n",
       " present, discuss and deliberate the future landing site for NASA's next \n",
       " Red Planet. </div>,\n",
       " <div class=\"article_teaser_body\">A\n",
       "  mixed-reality software that allows scientists and engineers to \n",
       " virtually walk on Mars has received NASA's 2018 Software of the Year \n",
       " Award.</div>,\n",
       " <div class=\"article_teaser_body\">What\n",
       "  does NASA do to get a rover ready for Mars? JPL's paint shop does a \n",
       " thousand different paint jobs a year. And while every piece of \n",
       " spacecraft that comes through the shop is important, one headed for the \n",
       " Red Planet adds a little extra oomph.</div>,\n",
       " <div class=\"article_teaser_body\">NASA still hasn't heard from the Opportunity rover, but at least the agency can see it again.</div>,\n",
       " <div class=\"article_teaser_body\">NASA\n",
       "  has a class assignment for corporations, nonprofits and educational \n",
       " organizations involved in science and space exploration: partner with \n",
       " the agency to inspire future engineers and scientists by sponsoring a \n",
       " contest to name the next rover to venture to the Red Planet.</div>,\n",
       " <div class=\"article_teaser_body\">NASAâ€™s MAVEN spacecraft celebrates four years in Mars orbit with a selfie.</div>,\n",
       " <div class=\"article_teaser_body\">A pair of NASA CubeSats flying to Mars are opening a new frontier for small spacecraft.</div>,\n",
       " <div class=\"article_teaser_body\">NASA's\n",
       "  Curiosity rover surveyed its surroundings on Mars, producing a \n",
       " 360-degree panorama of its current location on Vera Rubin Ridge.</div>,\n",
       " <div class=\"article_teaser_body\">The mission's heat probe could reveal how the planet's towering volcanoes formed.</div>,\n",
       " <div class=\"article_teaser_body\">Up\n",
       "  to 30 multimedia participants will be selected for a special two-day \n",
       " event at JPL culminating in the InSight spacecraft's landing on Mars. \n",
       " Apply by Sept. 3.</div>,\n",
       " <div class=\"article_teaser_body\">NASA's\n",
       "  InSight spacecraft, en route to a Nov. 26 landing on Mars, passed the \n",
       " halfway mark on Aug. 6. All of its instruments have been tested and are \n",
       " working well.</div>,\n",
       " <div class=\"article_teaser_body\">The global dust storm on Mars could soon let in enough sunlight for the Opportunity rover to recharge.</div>,\n",
       " <div class=\"article_teaser_body\">A series of NASA videos highlight scientists and engineers leading the next mission to Mars.</div>,\n",
       " <div class=\"article_teaser_body\">Transforming\n",
       "  the inhospitable Martian environment into a place astronauts could \n",
       " explore without life support is not possible without technology well \n",
       " beyond todayâ€™s capabilities.</div>,\n",
       " <div class=\"article_teaser_body\">It's\n",
       "  the beginning of the end for the planet-encircling dust storm on Mars. \n",
       " But it could still be weeks, or even months, before skies are clear \n",
       " enough for NASA's Opportunity rover to recharge its batteries and phone \n",
       " home. </div>,\n",
       " <div class=\"article_teaser_body\">A new paper suggests that liquid water may be sitting under a layer of ice at Mars' south pole.</div>,\n",
       " <div class=\"article_teaser_body\">On\n",
       "  July 30, when Mars and Earth are closer than they've been since 2003, \n",
       " JPL scientists and engineers will be at a free public event at Griffith \n",
       " Observatory in Los Angeles.</div>,\n",
       " <div class=\"article_teaser_body\">Auroras appear on Earth as ghostly displays of colorful light in the night sky, usually near the poles.</div>,\n",
       " <div class=\"article_teaser_body\">Scientists with NASA's Mars orbiters have been waiting years for an event like the current Mars global dust storm.</div>,\n",
       " <div class=\"article_teaser_body\">Looking\n",
       "  for summer fun? Southern California families have their choice of the \n",
       " beach, movies, museums -- and even NASA's next mission to Mars.</div>,\n",
       " <div class=\"article_teaser_body\">A storm of tiny dust particles has engulfed much of Mars over the last two weeks.</div>,\n",
       " <div class=\"article_teaser_body\">One of the most intense Martian dust storms ever observed is being studied by a record number of NASA spacecraft.</div>,\n",
       " <div class=\"article_teaser_body\">NASA\n",
       "  will host a media telecon on Wednesday, June 13, about a massive \n",
       " Martian dust storm affecting the Opportunity rover, and how various \n",
       " missions can obtain unique science.</div>]"
      ]
     },
     "execution_count": 109,
     "metadata": {},
     "output_type": "execute_result"
    }
   ],
   "source": [
    "nasa_news_article_paragraphs_html"
   ]
  },
  {
   "cell_type": "code",
   "execution_count": 110,
   "metadata": {},
   "outputs": [],
   "source": [
    "nasa_news_article_titles = []\n",
    "nasa_news_article_paragraphs = []"
   ]
  },
  {
   "cell_type": "code",
   "execution_count": 111,
   "metadata": {},
   "outputs": [],
   "source": [
    "for nasa_news_article_title in nasa_news_article_titles_html:\n",
    "    try:\n",
    "        nasa_news_article_titles.append(nasa_news_article_title.find(\"a\").text.strip())\n",
    "        \n",
    "        \n",
    "    except:\n",
    "        print(\"Error\")"
   ]
  },
  {
   "cell_type": "code",
   "execution_count": 112,
   "metadata": {},
   "outputs": [
    {
     "data": {
      "text/plain": [
       "['NASA InSight Landing on Mars: Milestones',\n",
       " 'NASA InSight Team on Course for Mars Touchdown',\n",
       " 'What Two Planetary Siblings Can Teach Us About Life',\n",
       " 'NASA Announces Landing Site for Mars 2020 Rover',\n",
       " 'NASA to Host Media Call on Next Mars Landing Site',\n",
       " 'How NASA Will Know When InSight Touches Down',\n",
       " 'NASA Brings Mars Landing to Viewers Everywhere',\n",
       " 'Curiosity on the Move Again',\n",
       " 'The Mars InSight Landing Site Is Just Plain Perfect',\n",
       " \"Five Things to Know About InSight's Mars Landing\",\n",
       " 'NASA Launches a New Podcast to Mars',\n",
       " 'Update on Opportunity Rover Recovery Efforts',\n",
       " 'Third ASPIRE Test Confirms Mars 2020 Parachute a Go',\n",
       " 'NASA to Host Briefing on November Mars InSight Landing',\n",
       " \"NASA's InSight Will Study Mars While Standing Still\",\n",
       " \"NASA's First Image of Mars from a CubeSat\",\n",
       " \"The 'Claw Game' on Mars: NASA InSight Plays to Win\",\n",
       " 'Scientists to Debate Landing Site for Next Mars Rover',\n",
       " 'Mars Virtual Reality Software Wins NASA Award',\n",
       " 'Painting Cars for Mars',\n",
       " 'Opportunity Emerges in a Dusty Picture',\n",
       " 'NASA Seeking Partner in Contest to Name Next Mars Rover',\n",
       " \"NASA's MAVEN Selfie Marks Four Years in Orbit at Mars\",\n",
       " 'MarCO Makes Space for Small Explorers',\n",
       " 'Curiosity Surveys a Mystery Under Dusty Skies',\n",
       " \"NASA's InSight Has a Thermometer for Mars\",\n",
       " 'Digital Creators: Apply for NASA Mars Landing Event',\n",
       " \"NASA's InSight Passes Halfway to Mars, Instruments Check In\",\n",
       " \"Six Things About Opportunity's Recovery Efforts\",\n",
       " \"Meet the People Behind NASA's InSight Mars Lander\",\n",
       " 'Mars Terraforming Not Possible Using Present-Day Technology',\n",
       " 'Opportunity Hunkers Down During Dust Storm',\n",
       " 'NASA Statement on Possible Subsurface Lake near Martian South Pole',\n",
       " \"JPL's 'Martians' Are Coming to Griffith Observatory\",\n",
       " \"NASA's MAVEN Spacecraft Finds That 'Stolen' Electrons Enable Unusual Aurora on Mars\",\n",
       " \"'Storm Chasers' on Mars Searching for Dusty Secrets\",\n",
       " 'NASA Mars Mission Adds Southern California Dates',\n",
       " 'Curiosity Captures Photos of Thickening Dust',\n",
       " 'NASA Encounters the Perfect Storm for Science',\n",
       " 'Media Telecon About Mars Dust Storm, Opportunity',\n",
       " 'NASA is Ready to Study the Heart of Mars',\n",
       " 'NASA Briefing on First Mission to Study Mars Interior',\n",
       " 'NASA Announces Landing Site for Mars 2020 Rover',\n",
       " 'Opportunity Hunkers Down During Dust Storm',\n",
       " 'NASA Finds Ancient Organic Material, Mysterious Methane on Mars',\n",
       " 'NASA Invests in Visionary Technology',\n",
       " 'NASA is Ready to Study the Heart of Mars',\n",
       " 'NASA Briefing on First Mission to Study Mars Interior',\n",
       " 'NASA Announces Landing Site for Mars 2020 Rover',\n",
       " 'Opportunity Hunkers Down During Dust Storm']"
      ]
     },
     "execution_count": 112,
     "metadata": {},
     "output_type": "execute_result"
    }
   ],
   "source": [
    "nasa_news_article_titles"
   ]
  },
  {
   "cell_type": "code",
   "execution_count": 113,
   "metadata": {},
   "outputs": [],
   "source": [
    "for nasa_news_article_paragraph in nasa_news_article_paragraphs_html:\n",
    "    try:\n",
    "        nasa_news_article_paragraphs.append(nasa_news_article_paragraph.text.replace(\"\\n\", \"\"))\n",
    "        \n",
    "        \n",
    "    except:\n",
    "        print(\"Error\")"
   ]
  },
  {
   "cell_type": "code",
   "execution_count": 114,
   "metadata": {},
   "outputs": [
    {
     "data": {
      "text/plain": [
       "[\"On Nov. 26, NASA's InSight spacecraft will blaze through the Martian atmosphere and set a lander gently on the surface in less time than it takes to cook a hard-boiled egg.\",\n",
       " \"NASA's Mars InSight spacecraft is on track for a soft touchdown on the surface of the Red Planet on Nov. 26.\",\n",
       " \"In studying Mars, NASA's InSight will reveal what makes one planet more or less suitable for life than another.\",\n",
       " 'After a five-year search, NASA has chosen Jezero Crater as the landing site for its upcoming Mars 2020 rover mission.',\n",
       " 'NASA will host a media teleconference at 9 a.m. PST (noon EST) Monday, Nov. 19, to provide details about the Mars 2020 roverâ€™s landing site on the Red Planet.',\n",
       " 'On Nov. 26, engineers will look for a combination of signals to determine whether the next spacecraft to Mars lands safely.',\n",
       " \"NASA's InSight lander is scheduled to touch down on the Red Planet at approximately noon PST  on Nov. 26, with a new suite of instruments to probe below the Martian surface.\",\n",
       " \"NASA's Mars Curiosity rover drove about 197 feet over the weekend to a site called Lake Orcadie, pushing its total odometry to over 12 miles.\",\n",
       " 'If the InSight landing zone were ice cream, it would be vanilla.',\n",
       " \"NASA engineers will be holding their breath when their spacecraft heads into Mars' atmosphere on Nov. 26.\",\n",
       " \"NASA's new eight-episode series 'On a Mission' follows the InSight spacecraft on its journey to Mars and details the extraordinary challenges of landing on the Red Planet.\",\n",
       " 'After a review of the progress of the listening campaign, NASA will continue its current strategy for attempting to make contact with the Opportunity rover for the foreseeable future.',\n",
       " 'The supersonic parachute that will handle the heaviest payload yet to the Red Planet â€“ Mars 2020 rover â€“ passes its final sounding rocket test with flying colors.',\n",
       " \"A briefing on NASA's upcoming InSight Mars landing will air on Wed. Oct. 31 at 1:30 p.m. EDT (10:30 a.m. PDT) on NASA TV, the agency's website and NASA InSight Facebook Page.\",\n",
       " \"The lander's unique science can teach us how planets are born.\",\n",
       " 'The image was produced by one of the twin briefcase-sized MarCO spacecraft, the first CubeSats to fly to deep space.',\n",
       " \"NASA's InSight lander will be the first mission to use a robotic arm to grasp instruments from the spacecraft and place them on the surface of another planet. \",\n",
       " \"Hundreds of scientists and Mars-exploration enthusiasts gather this week to present, discuss and deliberate the future landing site for NASA's next Red Planet. \",\n",
       " \"A mixed-reality software that allows scientists and engineers to virtually walk on Mars has received NASA's 2018 Software of the Year Award.\",\n",
       " \"What does NASA do to get a rover ready for Mars? JPL's paint shop does a thousand different paint jobs a year. And while every piece of spacecraft that comes through the shop is important, one headed for the Red Planet adds a little extra oomph.\",\n",
       " \"NASA still hasn't heard from the Opportunity rover, but at least the agency can see it again.\",\n",
       " 'NASA has a class assignment for corporations, nonprofits and educational organizations involved in science and space exploration: partner with the agency to inspire future engineers and scientists by sponsoring a contest to name the next rover to venture to the Red Planet.',\n",
       " 'NASAâ€™s MAVEN spacecraft celebrates four years in Mars orbit with a selfie.',\n",
       " 'A pair of NASA CubeSats flying to Mars are opening a new frontier for small spacecraft.',\n",
       " \"NASA's Curiosity rover surveyed its surroundings on Mars, producing a 360-degree panorama of its current location on Vera Rubin Ridge.\",\n",
       " \"The mission's heat probe could reveal how the planet's towering volcanoes formed.\",\n",
       " \"Up to 30 multimedia participants will be selected for a special two-day event at JPL culminating in the InSight spacecraft's landing on Mars. Apply by Sept. 3.\",\n",
       " \"NASA's InSight spacecraft, en route to a Nov. 26 landing on Mars, passed the halfway mark on Aug. 6. All of its instruments have been tested and are working well.\",\n",
       " 'The global dust storm on Mars could soon let in enough sunlight for the Opportunity rover to recharge.',\n",
       " 'A series of NASA videos highlight scientists and engineers leading the next mission to Mars.',\n",
       " 'Transforming the inhospitable Martian environment into a place astronauts could explore without life support is not possible without technology well beyond todayâ€™s capabilities.',\n",
       " \"It's the beginning of the end for the planet-encircling dust storm on Mars. But it could still be weeks, or even months, before skies are clear enough for NASA's Opportunity rover to recharge its batteries and phone home. \",\n",
       " \"A new paper suggests that liquid water may be sitting under a layer of ice at Mars' south pole.\",\n",
       " \"On July 30, when Mars and Earth are closer than they've been since 2003, JPL scientists and engineers will be at a free public event at Griffith Observatory in Los Angeles.\",\n",
       " 'Auroras appear on Earth as ghostly displays of colorful light in the night sky, usually near the poles.',\n",
       " \"Scientists with NASA's Mars orbiters have been waiting years for an event like the current Mars global dust storm.\",\n",
       " \"Looking for summer fun? Southern California families have their choice of the beach, movies, museums -- and even NASA's next mission to Mars.\",\n",
       " 'A storm of tiny dust particles has engulfed much of Mars over the last two weeks.',\n",
       " 'One of the most intense Martian dust storms ever observed is being studied by a record number of NASA spacecraft.',\n",
       " 'NASA will host a media telecon on Wednesday, June 13, about a massive Martian dust storm affecting the Opportunity rover, and how various missions can obtain unique science.']"
      ]
     },
     "execution_count": 114,
     "metadata": {},
     "output_type": "execute_result"
    }
   ],
   "source": [
    "nasa_news_article_paragraphs"
   ]
  },
  {
   "cell_type": "markdown",
   "metadata": {},
   "source": [
    "## In this section we scrape tweets from the @MarsWxReport Twitter account: https://twitter.com/marswxreport?lang=en"
   ]
  },
  {
   "cell_type": "code",
   "execution_count": null,
   "metadata": {},
   "outputs": [],
   "source": [
    "mars_twitter_page = requests.get(\"https://twitter.com/marswxreport?lang=en\")\n",
    "mars_twitter_page"
   ]
  },
  {
   "cell_type": "code",
   "execution_count": null,
   "metadata": {},
   "outputs": [],
   "source": [
    "mars_twitter_page_soup = bs(mars_twitter_page.text, \"html.parser\")"
   ]
  },
  {
   "cell_type": "code",
   "execution_count": null,
   "metadata": {},
   "outputs": [],
   "source": [
    "mars_twitter_page_latest_tweet = mars_twitter_page_soup.find(\"p\", class_=\"TweetTextSize\").text\n",
    "mars_twitter_page_latest_tweet"
   ]
  },
  {
   "cell_type": "markdown",
   "metadata": {},
   "source": [
    "## In this section we use pandas to directly scrape data from the Mars Facts website: https://space-facts.com/mars/"
   ]
  },
  {
   "cell_type": "code",
   "execution_count": null,
   "metadata": {},
   "outputs": [],
   "source": [
    "mars_space_facts_url = \"https://space-facts.com/mars/\""
   ]
  },
  {
   "cell_type": "code",
   "execution_count": null,
   "metadata": {},
   "outputs": [],
   "source": [
    "mars_space_facts_tables = pd.read_html(mars_space_facts_url)"
   ]
  },
  {
   "cell_type": "code",
   "execution_count": null,
   "metadata": {},
   "outputs": [],
   "source": [
    "mars_space_facts_tables"
   ]
  },
  {
   "cell_type": "code",
   "execution_count": null,
   "metadata": {},
   "outputs": [],
   "source": [
    "type(mars_space_facts_tables)"
   ]
  },
  {
   "cell_type": "code",
   "execution_count": null,
   "metadata": {},
   "outputs": [],
   "source": [
    "len(mars_space_facts_tables)"
   ]
  },
  {
   "cell_type": "code",
   "execution_count": null,
   "metadata": {},
   "outputs": [],
   "source": [
    "mars_space_facts_tables[0]"
   ]
  },
  {
   "cell_type": "code",
   "execution_count": null,
   "metadata": {},
   "outputs": [],
   "source": [
    "mars_space_facts_html_table_string = mars_space_facts_tables[0].to_html()"
   ]
  },
  {
   "cell_type": "code",
   "execution_count": null,
   "metadata": {},
   "outputs": [],
   "source": [
    "mars_space_facts_html_table_string"
   ]
  },
  {
   "cell_type": "code",
   "execution_count": null,
   "metadata": {},
   "outputs": [],
   "source": []
  }
 ],
 "metadata": {
  "kernelspec": {
   "display_name": "Python 3",
   "language": "python",
   "name": "python3"
  },
  "language_info": {
   "codemirror_mode": {
    "name": "ipython",
    "version": 3
   },
   "file_extension": ".py",
   "mimetype": "text/x-python",
   "name": "python",
   "nbconvert_exporter": "python",
   "pygments_lexer": "ipython3",
   "version": "3.6.5"
  }
 },
 "nbformat": 4,
 "nbformat_minor": 2
}
